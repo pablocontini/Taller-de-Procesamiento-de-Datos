{
  "cells": [
    {
      "cell_type": "markdown",
      "metadata": {
        "id": "view-in-github",
        "colab_type": "text"
      },
      "source": [
        "<a href=\"https://colab.research.google.com/github/pablocontini/Taller-de-Procesamiento-de-Datos/blob/main/TPS03_Regresi%C3%B3n_Log%C3%ADstica.ipynb\" target=\"_parent\"><img src=\"https://colab.research.google.com/assets/colab-badge.svg\" alt=\"Open In Colab\"/></a>"
      ]
    },
    {
      "cell_type": "markdown",
      "metadata": {
        "id": "DLBwTBYIcIuf"
      },
      "source": [
        "# Enunciado"
      ]
    },
    {
      "cell_type": "markdown",
      "metadata": {
        "id": "GXk71HPYcLrm"
      },
      "source": [
        "**Regresión Logística**\n",
        "\n",
        "Se desea desarrollar un clasificador de imágenes de gatos y perros utilizando regresión logística.\n",
        "\n",
        "Para ello descargar la base de datos $\\texttt{dog-and-cat-classification-dataset}$ de kaggle.\n",
        "\n",
        "Ayuda: la siguiente instrucción puede ayudar con la descarga:\n",
        "$\\texttt{kagglehub.dataset_download(\"bhavikjikadara/dog-and-cat-classification-dataset\")}$\n",
        "\n",
        "(a) *Análisis:*\n",
        "\n",
        "1. Calcular la función inversa $\\sigma^{-1}(p)$ con $p\\in(0, 1)$.\n",
        "2. Sea $p = \\sigma(z)$, la función sigmoide, calcular la derivada $\\sigma'(z)$.\n",
        "\n",
        "  Ayuda: Me parece que si expresa el resultado en función de $p$ el resultado se simplifica bastante.\n",
        "\n",
        "3. Hallar una expresión analítica para la función costo y su gradiente.\n",
        "\n",
        "  Ayuda: Tenga en cuenta el modelo asociado a una regresión logística de dos clases.\n",
        "\n",
        "(b) *Pre-Procesamiento:*\n",
        "\n",
        "1. Las imágenes poseen diferentes tamaños. Convertirlas todas a $16\\times 16$ utilizando `resize` (PIL).\n",
        "\n",
        "2. Las imágenes también poseen diferentes formatos. Convertirlas todas a escala de grises.\n",
        "\n",
        "3. Mostrar 5 imágenes.\n",
        "\n",
        "4. Utilice el comando `train_test_split` (sklearn) para definir dos conjuntos de datos. El conjunto de entrenamiento debe contener $20000$ muestras, el resto serán de testeo.\n",
        "\n",
        "(c) *Clasificación:*\n",
        "\n",
        "1. Utilizando `LogisticRegression` (sklearn), realizar una regresión logística sin regularización.\n",
        "\n",
        "2. Implementar una función que permita calcular la *accuracy* a partir de la salida de `predict`. Reportar el *accuracy* de entrenamiento y testeo.\n",
        "\n",
        "3. Implementar una función que permita calcualr la *cross-entropy* a partir de la salida de `predict_log_proba`. Reprotar la *cross-entropy* de entrenamiento y testeo.\n",
        "\n",
        "  Ayuda: Por un tema de continuidad asuma que $p\\,\\log\\left(q\\right) = 0$ si $p = q = 0$.\n",
        "\n",
        "4. Crear una imagen de 16x16 a partir del consejo de la guía y clasificarlo.\n",
        "\n",
        "(d) *Regularización:*\n",
        "- Utilice un mapa polinómico de orden 2 y un término de penalización para regularizar el problema. Indicar el *accuracy* tanto para el entrenamiento como el testeo.\n",
        "\n",
        "  Ayuda: una regresión de muchos parámetros puede tardar un tiempo. Un buen tip es configurar `max_iter` en un valor muy bajo para probar el código y una vez funcionando darle un valor razonable.\n",
        "\n",
        "(e)\n",
        "- A partir de la salida de `predict_proba` del conjunto de testeo, implementar la curva ROC. Comparar las ROC de los clasificadores con y sin regularización con la de uno que decide al azar.\n",
        "\n"
      ]
    },
    {
      "cell_type": "markdown",
      "metadata": {
        "id": "HWUHFTU_pQvs"
      },
      "source": [
        "# (a) *Análisis*"
      ]
    },
    {
      "cell_type": "markdown",
      "metadata": {
        "id": "Q3eIYi7fpY5h"
      },
      "source": [
        "## a.1) Inversa $\\sigma^{-1}(p)$ con $p\\in(0, 1)$."
      ]
    },
    {
      "cell_type": "markdown",
      "metadata": {
        "id": "mxPlQES8pkuk"
      },
      "source": [
        "Para hallar la inversa de la **función sigmoide** o logística se parte de su definición:\n",
        "$$p=\\sigma\\left(z\\right) = \\frac{1}{1 + e^{-z}}$$\n",
        "donde $p\\in\\left(0, 1\\right)$.\n",
        "\n",
        "Operando a ambos lados se obtiene:\n",
        "\\begin{align*}\n",
        "  1+e^{-z}&=\\frac{1}{p}\\\\\n",
        "  e^{-z}&=\\frac{1}{p}-1\\\\\n",
        "  e^{-z}&=\\frac{1-p}{p}\\\\\n",
        "  -z&=\\ln\\left(\\frac{1-p}{p}\\right)\\\\\n",
        "  z&=-\\ln\\left(\\frac{1-p}{p}\\right)\\\\\n",
        "  z&=\\ln\\left(\\frac{p}{1-p}\\right)\n",
        "\\end{align*}\n",
        "\n",
        "Por lo tanto, la inversa de la sigmoide (o función logit) es:\n",
        "$$\\boxed{z=\\sigma^{-1}(p)=\\ln\\left(\\frac{p}{1-p}\\right)}$$"
      ]
    },
    {
      "cell_type": "markdown",
      "metadata": {
        "id": "vG6fcFGXuRqo"
      },
      "source": [
        "## a.2) Cálculo de la derivada $\\sigma'(z)$"
      ]
    },
    {
      "cell_type": "markdown",
      "metadata": {
        "id": "_PaxMCDywFOQ"
      },
      "source": [
        "\\begin{align*}\n",
        "\\sigma'(z)&=\\frac{\\mathrm{d}}{\\mathrm{d}z}\n",
        "\\left(\\frac{1}{1+e^{-z}}\\right)\\\\\n",
        "&=\\frac{0\\,\\left(1+e^{-z}\\right)-1\\,\\left(-e^{-z}\\right)}{\\left(1+e^{-z}\\right)^2}\\\\\n",
        "&=\\frac{e^{-z}}{\\left(1+e^{-z}\\right)^2}\\\\\n",
        "&=\\left(\\frac{e^{-z}}{1+e^{-z}}\\right)\\left(\\frac{1}{{1+e^{-z}}}\\right)\\\\\n",
        "&=\\left(\\frac{e^{-z}+1-1}{1+e^{-z}}\\right)\\left(\\frac{1}{{1+e^{-z}}}\\right)\\\\\n",
        "&=\\left(\\frac{1+e^{-z}}{1+e^{-z}}-\\frac{1}{1+e^{-z}}\\right)\\left(\\frac{1}{{1+e^{-z}}}\\right)\\\\\n",
        "&=\\left(1-\\frac{1}{1+e^{-z}}\\right)\\left(\\frac{1}{{1+e^{-z}}}\\right)\\\\\n",
        "&=\\left(1-p\\right)p\\\\\n",
        "\\end{align*}\n",
        "Por lo tanto:\n",
        "$$\\boxed{\\sigma'(z)=\\left(1-\\frac{1}{1+e^{-z}}\\right)\\left(\\frac{1}{{1+e^{-z}}}\\right)=\\left(1-p\\right)p}$$"
      ]
    },
    {
      "cell_type": "markdown",
      "metadata": {
        "id": "_LbT02Oo5Mdj"
      },
      "source": [
        "## a.3) Cálculo de la función costo y su gradiente"
      ]
    },
    {
      "cell_type": "markdown",
      "metadata": {
        "id": "J92fMiWPRJCq"
      },
      "source": [
        "**Función costo**\n",
        "\n",
        "En regresión logística, se supone que:\n",
        "\n",
        "$$\\mathbb{P}(y=1\\mid x;\\theta)=h_\\theta(x)=\\frac{1}{1+e^{\\theta^T\\,x}}\\hspace{1cm}\\mathbb{P}(y=1\\mid x;\\theta)=1-h_\\theta(x)$$\n",
        "\n",
        "Dado un conjunto de entrenamiento $\\left\\{\\left(x^{(i)}, y^{(i)}\\right)\\right\\}_{i=1}^n$, donde cada $y^{(i)}\\in\\{0,1\\}$, se quiere encontrar el $\\theta$ que maximiza la **verosimilitud conjunta** de los datos.\n",
        "\n",
        "La probabilidad de observar un solop para $\\left(x^{(i)}, y^{(i)}\\right)$, dada una hipótesis $h_\\theta$, es:\n",
        "$$\\mathbb{P}\\left(y^{(i)}\\mid x^{(i)};\\theta\\right)=\\left[h_\\theta\\left(x^{(i)}\\right)\\right]^{y^{(i)}}\\left[1-h_\\theta\\left(x^{(i)}\\right)\\right]^{1-y^{(i)}}$$\n",
        "- Si $y^{(i)}=1$: se queda solo con $h_\\theta\\left(x^{(i)}\\right)$\n",
        "- Si $y^{(i)}=0$: se queda solo con $1-h_\\theta\\left(x^{(i)}\\right)$\n",
        "\n",
        "Para todos los ejemplos del dataset, la **verosimilitud total** es el producto de todas esas probabilidades:\n",
        "\n",
        "$$L(\\theta)=\\prod_{i=1}^n \\left[h_\\theta\\left(x^{(i)}\\right)\\right]^{y^{(i)}}\\left[1-h_\\theta\\left(x^{(i)}\\right)\\right]^{1-y^{(i)}}$$\n",
        "\n",
        "Para simplificar los cálculos se toma el logaritmo:\n",
        "\\begin{align}\n",
        "\\ell (\\theta)&=\\log L(\\theta)=\\log\\left(\\prod_{i=1}^n \\left[h_\\theta\\left(x^{(i)}\\right)\\right]^{y^{(i)}}\\left[1-h_\\theta\\left(x^{(i)}\\right)\\right]^{1-y^{(i)}}\\right)\\\\\n",
        "&=\\sum_{i=1}^n\\left[\\log\\left(\\left[h_\\theta\\left(x^{(i)}\\right)\\right]^{y^{(i)}}\\right)+\\log\\left(\\left[1-h_\\theta\\left(x^{(i)}\\right)\\right]^{1-y^{(i)}}\\right)\\right]\\\\\n",
        "&=\\sum_{i=1}^n\\left[y^{(i)}\\,\\log\\left( h_\\theta\\left(x^{(i)}\\right)\\right)+\\left(1-y^{(i)}\\right)\\log\\left(1-h_\\theta\\left(x^{(i)}\\right)\\right)\\right]\\\\\n",
        "\\end{align}\n",
        "\n",
        "Este es el logaritmo de la función de verosimilitud y es lo que se busca maximizar.\n",
        "\n",
        "Para encontrar el $\\theta$ que maximiza $\\ell (\\theta)$, se aplica **gradiente ascendente** (porque se está maximizando):\n",
        "\n",
        "$$\\theta := \\theta + \\alpha \\nabla_\\theta \\ell (\\theta)$$\n",
        "\n",
        "Aunque se usa la máxima verosimilitud como principio para ajustar los parámetros, los algoritmos de optimización como gradiente descendiente se formulan para minimizar una función. Por eso, en lugar de maximizar la log-verosimilitud, se minimiza su negativo.\n",
        "\n",
        "De esta manera: la función de costo es:\n",
        "\n",
        "$$\\boxed{J(\\theta)=-\\frac{1}{m}\\sum_{i=1}^m \\left[y^{(i)}\\,\\ln\\left( \\sigma\\left(\\theta^T\\,x^{(i)}\\right)\\right)+\\left(1-y^{(i)}\\right)\\ln\\left(1-\\sigma\\left(\\theta^T\\,x^{(i)}\\right)\\right)\\right]}$$\n",
        "\n",
        "**Cálculo del gradiente**\n",
        "\n",
        "Se denota $z^{(i)}=\\theta^T\\,x^{(i)}$. Para cada término, se debe derivar con respecto a $\\theta_j$. Se hace la siguiente cadena de derivaciones:\n",
        "1. $\\frac{\\partial}{\\partial \\theta_j}\\ln\\left(\\sigma\\left(z^{(i)}\\right)\\right)$\n",
        "2. $\\frac{\\partial}{\\partial \\theta_j}\\ln\\left(1-\\sigma\\left(z^{(i)}\\right)\\right)$\n",
        "\n",
        "se sabe además que\n",
        "$$\\frac{\\mathrm{d}}{\\mathrm{d}z}\\sigma(z)=\\sigma(z)\\,\\left(1-\\sigma(z)\\right)$$\n",
        "\n",
        "- Derivada para el término con $y^{(i)}\\ln\\left(\\sigma\\left(z^{(i)}\\right)\\right)$\n",
        "\n",
        "  $$\\frac{\\partial}{\\partial \\theta_j}\\left[y^{(i)}\\,\\ln\\left(\\sigma\\left(z^{(i)}\\right)\\right)\\right]=y^{(i)}\\,\\frac{1}{\\sigma\\left(z^{(i)}\\right)}\\,\\frac{\\partial}{\\partial z^{(i)}}\\left[\\sigma\\left(z^{(i)}\\right)\\right]\\,\\frac{\\partial z^{(i)}}{\\partial \\theta_j}$$\n",
        "  - $\\frac{\\partial z^{(i)}}{\\partial \\theta_j}=x_j^{(i)}$, porque $z^{(i)}=\\theta^T\\,x^{(i)}=\\sum_k\\theta_k\\,x_k^{(i)}$\n",
        "  - $\\frac{\\partial}{\\partial z}\\sigma\\left(z\\right)=\\sigma(z)\\left(1-\\sigma(z)\\right)$\n",
        "\n",
        "  Entonces\n",
        "  \\begin{align}\\frac{\\partial}{\\partial \\theta_j}\\left[y^{(i)}\\,\\ln\\left(\\sigma\\left(z^{(i)}\\right)\\right)\\right]&=y^{(i)}\\frac{1}{\\sigma\\left(z^{(i)}\\right)}\\left[\\sigma\\left(z^{(i)}\\right)\\left(1-\\sigma\\left(z^{(i)}\\right)\\right)\\right]x_j^{(i)}\\\\\n",
        "  &=y^{(i)}\\left[1-\\sigma\\left(z^{(i)}\\right)\\right]x_j^{(i)}\\\\\n",
        "  \\end{align}\n",
        "\n",
        "- Derivada para el término $\\left(1-y^{(i)}\\right)\\ln\\left(1-\\sigma\\left(z^{(i)}\\right)\\right)$\n",
        "\n",
        "  $$\\frac{\\partial}{\\partial \\theta_j}\\left[\\left(1-y^{(i)}\\right)\\ln\\left(1-\\sigma\\left(z^{(i)}\\right)\\right)\\right]=\\left(1-y^{(i)}\\right)\\frac{1}{1-\\sigma\\left(z^{(i)}\\right)}\\frac{\\partial}{\\partial z^{(i)}}\\left[-\\sigma\\left(z^{(i)}\\right)\\right]\\frac{\\partial z^{(i)}}{\\partial \\theta_j}$$\n",
        "\n",
        "  - $\\frac{\\partial}{\\partial z}\\left[1-\\sigma(z)\\right]=\\sigma'(z)=-\\sigma(z)\\left(1-\\sigma(z)\\right)$\n",
        "  - $\\frac{\\partial z^{(i)}}{\\partial \\theta_j}=x_j^{(i)}$\n",
        "\n",
        "  Por lo tanto:\n",
        "\n",
        "  \\begin{align}\n",
        "  \\frac{\\partial}{\\partial \\theta_j}\\left[\\left(1-y^{(i)}\\right)\\ln\\left(1-\\sigma\\left(z^{(i)}\\right)\\right)\\right]&=\\left(1-y^{(i)}\\right)\\frac{1}{1-\\sigma\\left(z^{(i)}\\right)}\\frac{\\partial}{\\partial z^{(i)}}\\left[-\\sigma\\left(z^{(i)}\\right)\\right]\\frac{\\partial z^{(i)}}{\\partial \\theta_j}\\\\\n",
        "  &=\\left(1-y^{(i)}\\right)\\frac{1}{1-\\sigma\\left(z^{(i)}\\right)}\\left[-\\sigma\\left(z^{(i)}\\right)\\left(1-\\sigma\\left(z^{(i)}\\right)\\right)\\right]x_j^{(i)}\\\\\n",
        "  &=-\\left(1-y^{(i)}\\right)\\sigma\\left(z^{(i)}\\right)x_j^{(i)}\n",
        "  \\end{align}\n",
        "\n",
        "  Combinando todos los resultados:\n",
        "\n",
        "  \\begin{align}\n",
        "  \\frac{\\partial}{\\partial\\theta_j}J(\\theta)&=-\\frac{1}{m}\\sum_{i=1}^m\\left[y^{(i)}\\left(1-\\sigma\\left(z^{(i)}\\right)\\right)x_j^{(i)}+\\left(1-y^{(i)}\\right)\\left(-\\sigma\\left(z^{(i)}\\right)\\right)x_j^{(i)}\\right]\\\\\n",
        "  &=-\\frac{1}{m}\\sum_{i=1}^m\\left[y^{(i)}x_j^{(i)}-y^{(i)}\\sigma\\left(z^{(i)}\\right)x_j^{(i)}-\\sigma\\left(z^{(i)}\\right)x_j^{(i)}+y^{(i)}\\sigma\\left(z^{(i)}\\right)x_j^{(i)}\\right]\\\\\n",
        "  &=-\\frac{1}{m}\\sum_{i=1}^m\\left[y^{(i)}x_j^{(i)}-\\sigma\\left(z^{(i)}\\right)x_j^{(i)}\\right]\\\\\n",
        "  &=\\frac{1}{m}\\sum_{i=1}^m\\left[\\sigma\\left(z^{(i)}\\right)-y^{(i)}\\right]x_j^{(i)}\\\\\n",
        "  \\end{align}\n",
        "\n",
        "  $\\sigma\\left(z^{(i)}\\right)=h_\\theta\\left(x^{(i)}\\right)$, por lo tanto:\n",
        "\n",
        "  $$\\boxed{\\frac{\\partial}{\\partial\\theta_j}J(\\theta)=\\frac{1}{m}\\sum_{i=1}^m\\left[h_\\theta\\left(x^{(i)}\\right)-y^{(i)}\\right]x_j^{(i)}}$$\n",
        "\n",
        "  De forma vectorial:\n",
        "  $$\\boxed{\\nabla_\\theta J(\\theta)=\\frac{1}{m}\\sum_{i=1}^m\\left(\\sigma\\left(\\theta^T x^{(i)}\\right)-y^{(i)}\\right)x^{(i)}}$$\n",
        "\n"
      ]
    },
    {
      "cell_type": "markdown",
      "metadata": {
        "id": "riRa9WzZ5R7k"
      },
      "source": [
        "# (b) *Pre-procesamiento*"
      ]
    },
    {
      "cell_type": "markdown",
      "metadata": {
        "id": "QronY7vFcZ9A"
      },
      "source": [
        "## b.1) Conversión del tamaño de las imágenes"
      ]
    },
    {
      "cell_type": "markdown",
      "metadata": {
        "id": "H_aZ05WJR76s"
      },
      "source": [
        "En modelos como la **regresión logística**, se espera que todas las muestras tengan la misma dimensionalidad. Por lo tanto, es necesario que **todas tengan exactamente la misma forma**.\n",
        "\n",
        "A tal fin, cada imagen se redimensiona de forma forzada a 16x16 píxeles mediante la función `resize` de la librería Pillow (PIL):\n",
        "```python\n",
        "  img.resize((16, 16), Image.LANCZOS, reducing_gap=3)\n",
        "```\n",
        "- El método LANCZOS es un filtro de remuestreo de alta calidad que ofrece mejor suavizado y menos artefactos al reducir la resolución, a costa de un mayor tiempo de procesamiento.\n",
        "- `reducing_gap=3` aplica la optimización redimensionando la imagen en 2 pasos. Primero reduce la imagen en veces enteras usando `reduce()`. Segundo, redimensiona usando un remuestreo regular. Beneficiando la claridad de la imagen resultante. Con un valor mayor o igual a 3.0, el resultado es indistinguible del remuestreo correcto en la mayoría de los casos.\n",
        "- No se conserva la relación de aspecto, ya que mantenerla requeriría rellenar (padding) o recortar imágenes de forma no uniforme, lo que podría producir pérdida de contenido relevante dado el tamaño final.\n",
        "\n",
        "\n",
        ">*Aclaración*: Algunas veces al ejecutar el siguiente código en Google Colab se recibe la siguiente advertencia:\n",
        ">\n",
        ">`/usr/local/lib/python3.11/dist-packages/PIL/TiffImagePlugin.py:949: UserWarning: Truncated File Read warnings.warn(str(msg))`\n",
        ">\n",
        ">Por lo general se corrige ejecutándolo nuevamente. Las soluciones propuestas en foros (Stack Overflow) no fueron satisfactorias. Ignorar la advertencia parece, en principio, no modificar los resultados."
      ]
    },
    {
      "cell_type": "code",
      "execution_count": null,
      "metadata": {
        "colab": {
          "base_uri": "https://localhost:8080/"
        },
        "id": "rhHDGU6jbsrG",
        "outputId": "dddff3d8-aab2-4f93-8a99-dd2adf7eec3f"
      },
      "outputs": [
        {
          "output_type": "stream",
          "name": "stdout",
          "text": [
            "Directorio de los archivos: /kaggle/input/dog-and-cat-classification-dataset\n"
          ]
        }
      ],
      "source": [
        "from kagglehub import dataset_download\n",
        "\n",
        "folder_path=dataset_download(\"bhavikjikadara/dog-and-cat-classification-dataset\")\n",
        "print(\"Directorio de los archivos:\", folder_path)"
      ]
    },
    {
      "cell_type": "code",
      "execution_count": null,
      "metadata": {
        "colab": {
          "base_uri": "https://localhost:8080/"
        },
        "id": "ms9-H8KC5KR-",
        "outputId": "88c38db4-afc1-4602-e644-4a305e24138f"
      },
      "outputs": [
        {
          "output_type": "stream",
          "name": "stderr",
          "text": [
            "/usr/local/lib/python3.11/dist-packages/PIL/TiffImagePlugin.py:949: UserWarning: Truncated File Read\n",
            "  warnings.warn(str(msg))\n"
          ]
        },
        {
          "output_type": "stream",
          "name": "stdout",
          "text": [
            "Cantidad de imágenes redimensionadas: 24998\n"
          ]
        }
      ],
      "source": [
        "import os\n",
        "from PIL import Image\n",
        "\n",
        "base_path = os.path.join(folder_path,'PetImages')\n",
        "# Listas para datos y etiquetas\n",
        "data_resized = []\n",
        "labels = []\n",
        "\n",
        "# Leemos las dos clases: 'Cat' (etiqueta = 0) y 'Dog' (etiqueta = 1)\n",
        "for class_name, class_label in [('Cat', 0), ('Dog', 1)]:\n",
        "  class_path = os.path.join(base_path, class_name)\n",
        "  # Itero sobre cada imagen en la carpeta correspondiente\n",
        "  for img_name in os.listdir(class_path):\n",
        "    try:\n",
        "      img_path = os.path.join(class_path, img_name)\n",
        "      img = Image.open(img_path)\n",
        "      img_16x16 = img.resize((16, 16), Image.LANCZOS, reducing_gap=3)\n",
        "      data_resized.append(img_16x16)\n",
        "      labels.append(class_label)\n",
        "    except (IOError, OSError) as e:\n",
        "      print(f\"Error procesando la imagen {img_path}: {e}\")\n",
        "\n",
        "print(\"Cantidad de imágenes redimensionadas:\", len(data_resized))"
      ]
    },
    {
      "cell_type": "markdown",
      "metadata": {
        "id": "v_M2GQT3SAzc"
      },
      "source": [
        "## b.2) Conversión a escala de grises"
      ]
    },
    {
      "cell_type": "markdown",
      "metadata": {
        "id": "MzE4t9-rMl9V"
      },
      "source": [
        "Adicionalmente a la conversión de tamaño, se aplicaron otras transformaciones durante la etapa de preprocesamiento del dataset del modelo:\n",
        "1. `img.convert('L')`: Convierte la imagen a **escala de grises** reduciendo cada píxel a un único valor de intesidad entre 0 (negro) y 255 (blanco). Esto reduce la dimensionalidad del problema, ya que elimina los canales de color (RGB).\n",
        "2. `flatten()`: Transforma la imagen 2D (16x16) en un vector 1D de tamaño 256. Este paso es necesario porque los modelos trabajan con vectores de características, no con matrices de píxeles.\n",
        "3. `data = np.array(data) / 255.0`: normaliza los valores de intensidad a un rango entre 0 y 1. Esto puede mejorar la estabilidad y convergencia del modelo de regresión logística durante el entrenamiento."
      ]
    },
    {
      "cell_type": "code",
      "execution_count": null,
      "metadata": {
        "colab": {
          "base_uri": "https://localhost:8080/"
        },
        "id": "-P9PdfqYb6gL",
        "outputId": "0e4a6bda-073d-45b8-8119-ab37c0802c5c"
      },
      "outputs": [
        {
          "output_type": "stream",
          "name": "stdout",
          "text": [
            "Cantidad total de imágenes leídas: 24998\n",
            "Tamaño de cada imagen luego de flatten (16x16): 256\n"
          ]
        }
      ],
      "source": [
        "import numpy as np\n",
        "\n",
        "data = []\n",
        "\n",
        "# Iteración sobre cada imagen en la lista\n",
        "for img in data_resized:\n",
        "    img_array = np.array(img.convert('L')).flatten()\n",
        "    data.append(img_array)\n",
        "\n",
        "data = np.array(data) / 255.0\n",
        "labels = np.array(labels)\n",
        "\n",
        "print(\"Cantidad total de imágenes leídas:\", data.shape[0])\n",
        "print(\"Tamaño de cada imagen luego de flatten (16x16):\", data.shape[1])\n",
        "\n"
      ]
    },
    {
      "cell_type": "markdown",
      "metadata": {
        "id": "ehuefA_ENehw"
      },
      "source": [
        "## b.3) Muestra de 5 imágenes."
      ]
    },
    {
      "cell_type": "markdown",
      "metadata": {
        "id": "O8yTcEzWPN6e"
      },
      "source": [
        "A continuación, se muestran 5 imágenes seleccionadas aleatoriamente del conjunto preprocesado. Este paso, aunque simple, resulta útil para **verificar visualmente** que el preprocesamiento se haya aplicado correctamente y que las imágenes conserven información suficiente para ser clasificadas.\n",
        "\n",
        "Las imágenes resultantes, aunque pixeladas por la reducción de tamaño, conservan formas generales para distinguir siluetas y estructuras básicas. Esto respalda la viabilidad del modelo de regresión logística entrenado sobre estos datos."
      ]
    },
    {
      "cell_type": "code",
      "execution_count": null,
      "metadata": {
        "colab": {
          "base_uri": "https://localhost:8080/",
          "height": 192
        },
        "id": "kXmUrBigK73G",
        "outputId": "00fa25b7-eec0-42b6-db4c-2d1212e61be4"
      },
      "outputs": [
        {
          "output_type": "display_data",
          "data": {
            "text/plain": [
              "<Figure size 1000x200 with 5 Axes>"
            ],
            "image/png": "[encoded data removed]"
          },
          "metadata": {}
        }
      ],
      "source": [
        "import matplotlib.pyplot as plt\n",
        "\n",
        "# Seleccionamos 5 índices aleatorios\n",
        "indices_random = np.random.choice(range(data.shape[0]), size=5, replace=False)\n",
        "\n",
        "\n",
        "plt.figure(figsize=(10, 2))\n",
        "for i, idx in enumerate(indices_random):\n",
        "    plt.subplot(1, 5, i+1)\n",
        "    # La imagen original está flatten, se convierte a 16x16\n",
        "    img_16x16 = data[idx].reshape(16,16)\n",
        "    plt.imshow(img_16x16, cmap='gray')\n",
        "    plt.title(f\"Label: {labels[idx]}\")\n",
        "    plt.axis('off')\n",
        "plt.show()"
      ]
    },
    {
      "cell_type": "markdown",
      "metadata": {
        "id": "1l7PNBOINAoQ"
      },
      "source": [
        "## b.4) Definición de los conjuntos de datos."
      ]
    },
    {
      "cell_type": "markdown",
      "metadata": {
        "id": "v4TNlGIoOY_H"
      },
      "source": [
        "La función `train_test_split` de scikit-learn se utiliza para dividir un dataset en dos subconjuntos: **entrenamiento** y **testeo**. Esto permite evaluar el rendimiento del modelo en datos que *no fueron vistos durante el entrenamiento*, lo cual es fundamental para medir su capacidad de generalización.\n",
        "\n",
        "En este caso:\n",
        "- Se aplicó `train_test_split` para tomar $20000$ imágenes como conjunto de entrenamiento y usar el resto como conjunto de prueba.\n",
        "- La división fue *aleatoria pero reproducible* utilizando un `random_state` (para obtener el mismo modelo ante un eventual reinicio el entorno de ejecución de Colab).\n",
        "- Esta estrategia asegura que el modelo aprenda patrones con una parte del dataset y se evalúe de forma objetiva con otra parte, evitando el sobreajuste.\n",
        "\n",
        "En resumen, `train_test_split` permite separar los datos de forma controlada para entrenar el modelo y evaluar su desempeño con nuevos ejemplos.\n",
        "\n"
      ]
    },
    {
      "cell_type": "code",
      "execution_count": null,
      "metadata": {
        "colab": {
          "base_uri": "https://localhost:8080/"
        },
        "id": "LNGsMyyOZXfB",
        "outputId": "a1be192b-542b-4ddd-e587-2c9b3879e0aa"
      },
      "outputs": [
        {
          "output_type": "stream",
          "name": "stdout",
          "text": [
            "Tamaño X_train: (20000, 256)\n",
            "Tamaño X_test: (4998, 256)\n"
          ]
        }
      ],
      "source": [
        "from sklearn.model_selection import train_test_split\n",
        "\n",
        "# Separamos en train (20,000 muestras) y test (resto)\n",
        "# Estrictamente, se pide un train con 20k. El test será el sobrante.\n",
        "X_train, X_test, y_train, y_test = train_test_split(\n",
        "    data,\n",
        "    labels,\n",
        "    train_size=20000,\n",
        "    shuffle=True,\n",
        "    random_state=42\n",
        ")\n",
        "\n",
        "print(\"Tamaño X_train:\", X_train.shape)\n",
        "print(\"Tamaño X_test:\", X_test.shape)"
      ]
    },
    {
      "cell_type": "markdown",
      "metadata": {
        "id": "Jm2oZ2ElNz6Y"
      },
      "source": [
        "# (c) *Clasificación*"
      ]
    },
    {
      "cell_type": "markdown",
      "metadata": {
        "id": "lMCJ2eBOOA-P"
      },
      "source": [
        "## c.1) Regresión logística sin regularización.\n"
      ]
    },
    {
      "cell_type": "markdown",
      "metadata": {
        "id": "EXoCLV6jeqbk"
      },
      "source": [
        "La clase `LogisticRegression` de scikit-learn es un estimador lineal utilizado para resolver problemas de clasificación. Por defecto, implementa la regresión logística con regularización utilizando solucionadores como 'newton-cg', 'sag', 'saga' y 'lbfgs'.\n",
        "\n",
        "En este caso particular, se configura con `penalty=None` para desactivar la regularización, es decir, se entrena el modelo sin aplicar ningún término penalizador.\n",
        "\n",
        "Se establece `max_iter=10_000` para garantizar que el algoritmo tenga suficiente número de iteraciones para alcanzar la convergencia, evitando así una finalización prematura del entrenamiento o advertencias relacionadas con la no convergencia.\n",
        "\n",
        "Cuando se utiliza `penalty=None`, el solucionador 'liblinear' no es compatible, pero los demás mencionados sí lo son. Se evaluó el desempeño con diferentes solvers y los resultados fueron similares. Por esta razón, se optó por 'lbfgs', ya que la documentación destaca su robustez general. No obstante, para conjuntos de datos grandes, el solver 'saga' suele ofrecer mayor eficiencia computacional."
      ]
    },
    {
      "cell_type": "code",
      "execution_count": null,
      "metadata": {
        "colab": {
          "base_uri": "https://localhost:8080/"
        },
        "id": "bGlE9IqdOMdx",
        "outputId": "ecc216d6-23ce-4c63-d079-17f9376efd58"
      },
      "outputs": [
        {
          "output_type": "stream",
          "name": "stdout",
          "text": [
            "Modelo entrenado (sin regularización).\n"
          ]
        }
      ],
      "source": [
        "from sklearn.linear_model import LogisticRegression\n",
        "\n",
        "# Se crea el modelo sin regularización ('penalty=\"none\"')\n",
        "model_no_reg = LogisticRegression(\n",
        "    penalty=None,\n",
        "    max_iter=10_000,\n",
        "    solver='lbfgs'\n",
        ")\n",
        "\n",
        "# Entrenamiento\n",
        "model_no_reg.fit(X_train, y_train)\n",
        "\n",
        "print(\"Modelo entrenado (sin regularización).\")\n"
      ]
    },
    {
      "cell_type": "markdown",
      "metadata": {
        "id": "szZoOIX4v-_e"
      },
      "source": [
        "## c.2) Exactitud o *accuracy* de entrenamiento y testeo."
      ]
    },
    {
      "cell_type": "markdown",
      "metadata": {
        "id": "seLM_MlyxvCD"
      },
      "source": [
        "La exactitud (*accuracy*) es una métrica de desempeño para evaluar modelos de clasificación. Se define como la proporción de predicciones correctas sobre el total de muestras evaluadas.\n",
        "\n",
        "$$\\text{Accuracy}=\\frac{\\text{# de prediciones acertadas}}{\\text{# total de muestras}}=\\frac{1}{m}\\sum_{i=1}^m\\mathbf{1}(\\hat{y}_i=y_i)$$\n",
        "donde:\n",
        "- $m$: es el número total de muestras.\n",
        "- $y_i$: es la etiqueta verdadera de la muestra $i$.\n",
        "- $\\hat{y}_i$: es la etiqueta predicha por el modelo.\n",
        "- $\\mathbb{1}(\\cdot)$: es la función indicadora.\n",
        "\n",
        "Se puede implementar fácilmente como el promedio de un array resultado de la comparación lógica de igualdad entre el array de etiquetas verdaderas y el de las predichas por el modelo.\n",
        "\n",
        "```python\n",
        "    return np.mean(y_true == y_pred)\n",
        "```\n",
        "\n",
        "Alternativamente se puede utilizar `sklearn.metrics.accuracy_score`"
      ]
    },
    {
      "cell_type": "code",
      "execution_count": null,
      "metadata": {
        "colab": {
          "base_uri": "https://localhost:8080/"
        },
        "id": "N-9x_-OUO053",
        "outputId": "9fe614e0-829d-4010-b730-2b3acc99a23e"
      },
      "outputs": [
        {
          "output_type": "stream",
          "name": "stdout",
          "text": [
            "Accuracy entrenamiento (sin regularización): 0.589750\n",
            "Accuracy test (sin regularización): 0.560024\n"
          ]
        }
      ],
      "source": [
        "def accuracy(y_true, y_pred):\n",
        "    \"\"\"\n",
        "    Calcula la exactitud (accuracy).\n",
        "    \"\"\"\n",
        "    return np.mean(y_true == y_pred)\n",
        "\n",
        "# Predicciones\n",
        "y_pred_train = model_no_reg.predict(X_train)\n",
        "y_pred_test  = model_no_reg.predict(X_test)\n",
        "\n",
        "acc_train = accuracy(y_train, y_pred_train)\n",
        "acc_test  = accuracy(y_test, y_pred_test)\n",
        "\n",
        "print(f\"Accuracy entrenamiento (sin regularización): {acc_train:.6f}\")\n",
        "print(f\"Accuracy test (sin regularización): {acc_test:.6f}\")"
      ]
    },
    {
      "cell_type": "markdown",
      "metadata": {
        "id": "b1Wp3_oROXyC"
      },
      "source": [
        "## c.3) Entropía cruzada o cross-entropy a partir de la salida de predict_log_proba"
      ]
    },
    {
      "cell_type": "markdown",
      "metadata": {
        "id": "ZC85-VpwBvBT"
      },
      "source": [
        "La entropía cruzada es una medida que cuantifica cuan diferentes son la distribución de probabilidad que predice un modelo y la distribución real (etiquetas). Matemáticamente se define como el promedio para todas las muestras del negativo del logaritmo natural de la probabilidad predicha de la clase real. Es decir, a menor entropía cruzada, mejor coincide la predicción con la realidad.\n",
        "\n",
        "A continuación, muestra una posible implementación:\n",
        "\n",
        "```python\n",
        "    return -np.mean(log_probs[np.arange(len(y_true)), y_true])\n",
        "\n",
        "```\n",
        "Sus parámetros son:\n",
        "- `y_true`: Es un array unidimensional con las etiquetas verdaderas para cada muestra. Cada elemento del array es un elemento que representa la clase real de la muestra.\n",
        "- `log_probs`: Es una matriz bidimensional de *log-probabilidades* (con `m` filas y `k` columnas si hay `k` clases (la salida de `predict_log_proba(X)`). Es decir, `log_probs[i, j]` es el logaritmo de la probabilidad pronosticada para la clase 'j' en la muestra 'i'\n",
        "\n",
        "Funciona de la siguiente manera:\n",
        "1. Selección de la log-probabilidad verdadera:\n",
        "  - `np.arange(len(y_true))` genera un array con índices `[0, 1, ..., m-1]`.\n",
        "  - `log_probs[np.arange(len(y_true)), y_true]` usa indexación avanzada para extraer, de cada fila `i`, la columna correspondiente a la clase verdadera `y_true[i]`. En otras palabras, para cada muestra `i`, recupera `log_probs[i, y_true[i]]`, que es el logaritmo de la probabilidad asignada a la clase correcta.\n",
        "2. Cálculo de la entropía cruzada:\n",
        "  - Al tomar el promedio (mean) de esos valores para todas las muestras, se obtiene:\n",
        "  $$\\text{Cross-Entropy}=-\\frac{1}{m}\\sum_{i=1}^m\\ln\\left(p\\left(\\text{clase real}\\mid x^{(i)}\\right)\\right)$$\n",
        "\n",
        "  - `-np.mean(log_probs[np.arange(len(y_true)), y_true])` reproduce esa operación.\n",
        "    - `log_probs[np.arange(len(y_true)), y_true]` da los valores de $\\ln\\left(p\\left(\\text{clase real}\\mid x^{(i)}\\right)\\right)$\n",
        "    - `np.mean(...)` toma el promedio de esos valores\n",
        "    - el signo (`-`) invierte el signo de ese promedio\n",
        "\n",
        "En síntesis, el código selecciona el log de la probabilidad de la clase correcta para cada muestra, luego toma el promedio y aplica un signo negativo.\n",
        "\n",
        "Alternativamente, se puede utilizar `sklearn.metrics.log_loss` (con `predict_proba`)"
      ]
    },
    {
      "cell_type": "code",
      "execution_count": null,
      "metadata": {
        "colab": {
          "base_uri": "https://localhost:8080/"
        },
        "id": "8-UwMT2sPHx7",
        "outputId": "ed9b8c74-ad4c-488c-90c3-18e3e91ddd1f"
      },
      "outputs": [
        {
          "output_type": "stream",
          "name": "stdout",
          "text": [
            "Cross-entropy (train): 0.671217\n",
            "Cross-entropy (test):  0.689109\n"
          ]
        }
      ],
      "source": [
        "def cross_entropy(y_true, log_probs):\n",
        "    # Se toma el log-probabilidad correspondiente a la clase verdadera para cada muestra.\n",
        "    return -np.mean(log_probs[np.arange(len(y_true)), y_true])\n",
        "\n",
        "\n",
        "# log_proba para set de entrenamiento y test\n",
        "train_log_proba = model_no_reg.predict_log_proba(X_train)\n",
        "test_log_proba  = model_no_reg.predict_log_proba(X_test)\n",
        "\n",
        "ce_train = cross_entropy(y_train, train_log_proba)\n",
        "ce_test  = cross_entropy(y_test, test_log_proba)\n",
        "\n",
        "print(f\"Cross-entropy (train): {ce_train:.6f}\")\n",
        "print(f\"Cross-entropy (test):  {ce_test:.6f}\")"
      ]
    },
    {
      "cell_type": "code",
      "source": [
        "train_log_proba[np.arange(len(y_train)),y_train]"
      ],
      "metadata": {
        "colab": {
          "base_uri": "https://localhost:8080/"
        },
        "id": "cV6wrIarQn6r",
        "outputId": "e1cbbadb-5d2f-45aa-cbcc-695266c8cdf9"
      },
      "execution_count": null,
      "outputs": [
        {
          "output_type": "execute_result",
          "data": {
            "text/plain": [
              "array([-0.64054865, -0.50279934, -0.62307702, ..., -0.61863683,\n",
              "       -0.69044177, -0.54042752])"
            ]
          },
          "metadata": {},
          "execution_count": 9
        }
      ]
    },
    {
      "cell_type": "markdown",
      "metadata": {
        "id": "lS9n-mN6PPpr"
      },
      "source": [
        "## c.4) Clasificación del **Phaistos Disc Sign Cat**"
      ]
    },
    {
      "cell_type": "markdown",
      "metadata": {
        "id": "MqQlVP_kafm0"
      },
      "source": [
        "A modo de ejemplo, se tomó el símbolo utilizado en la guía de ejercicios para representar un consejo (*Phaistos Disc Sign Cat*). Se capturó la imagen correspondiente, se alojó en un servicio gratuito de hospedaje de imágenes y luego se aplicaron los mismos pasos de preprocesamiento que al conjunto de entrenamiento y test (redimensionar, convertir a escala de grises, etc.). Finalmente, se utilizó el modelo para intentar predecir si la imagen correspondía a un “gato” o a un “perro”.\n",
        "\n",
        "El resultado no fue exitoso para la clasificación como “gato”: las probabilidades estimadas fueron 0.485 para gato y 0.515 para perro, lo que llevó al modelo a clasificarla erróneamente como perro.\n",
        "\n",
        "Este ejemplo ilustra las limitaciones del modelo cuando se enfrenta a imágenes que salen de su distribución típica de entrenamiento."
      ]
    },
    {
      "cell_type": "code",
      "execution_count": null,
      "metadata": {
        "colab": {
          "base_uri": "https://localhost:8080/",
          "height": 385
        },
        "id": "RSo1MiuE9ZIN",
        "outputId": "bb984f9c-d8f0-4864-96dc-9ac218d03c73"
      },
      "outputs": [
        {
          "output_type": "display_data",
          "data": {
            "text/plain": [
              "<Figure size 800x400 with 2 Axes>"
            ],
            "image/png": "[encoded data removed]"
          },
          "metadata": {}
        },
        {
          "output_type": "stream",
          "name": "stdout",
          "text": [
            "Predicción del modelo: DOG\n",
            "Probabilidades [clase=0 (cat), clase=1 (dog)]: [0.47387631 0.52612369]\n"
          ]
        }
      ],
      "source": [
        "import requests\n",
        "from PIL import Image\n",
        "import io\n",
        "import numpy as np\n",
        "import matplotlib.pyplot as plt\n",
        "\n",
        "# URL de la imagen \"consejo de la guía\"\n",
        "url = \"https://i.ibb.co/tTfkc8DH/image.png\"\n",
        "\n",
        "# Descarga de la imagen\n",
        "response = requests.get(url)\n",
        "img = Image.open(io.BytesIO(response.content))\n",
        "\n",
        "# Imagen original\n",
        "plt.figure(figsize=(8,4))\n",
        "plt.subplot(1, 2, 1)\n",
        "plt.imshow(img)\n",
        "plt.title(\"Imagen Original\")\n",
        "plt.axis(\"off\")\n",
        "\n",
        "\n",
        "# Procesamiento de la imagen: redimensionar a 16x16 y convertir a escala de grises\n",
        "img_resized = img.resize((16, 16),Image.LANCZOS, reducing_gap=2)\n",
        "img_gray = img_resized.convert(\"L\")\n",
        "\n",
        "plt.subplot(1, 2, 2)\n",
        "plt.imshow(img_gray, cmap=\"gray\")\n",
        "plt.title(\"16x16 - Escala de grises\")\n",
        "plt.axis(\"off\")\n",
        "plt.show()\n",
        "\n",
        "# Aplanamiento y clasificar\n",
        "img_array = np.array(img_gray)\n",
        "img_plana = img_array.flatten()\n",
        "img_plana = img_plana.reshape(1, -1)\n",
        "img_plana = img_plana/255.0\n",
        "\n",
        "\n",
        "# Predecir\n",
        "prediction = model_no_reg.predict(img_plana)\n",
        "proba = model_no_reg.predict_proba(img_plana)\n",
        "\n",
        "clase = \"DOG\" if prediction[0] == 1 else \"CAT\"\n",
        "print(f\"Predicción del modelo: {clase}\")\n",
        "print(\"Probabilidades [clase=0 (cat), clase=1 (dog)]:\", proba[0])\n"
      ]
    },
    {
      "cell_type": "markdown",
      "metadata": {
        "id": "_gj-Ga2VOf0Q"
      },
      "source": [
        "# (d) *Regularización*"
      ]
    },
    {
      "cell_type": "markdown",
      "metadata": {
        "id": "4lCHu2DUdjRF"
      },
      "source": [
        "Como se aprendió en el trabajo práctico anterior, la regularización es una técnica que busca evitar el sobreajuste (overfitting) controlando la complejidad de un modelo. En términos prácticos, introduce un término de penalización sobre los parámetros (pesos) del modelo dentro de la función de costo. Esto obliga a que dichos parámetros no crezcan desmesuradamente y, por lo tanto, se mejore la capacidad de generalización del modelo.\n",
        "\n",
        "- En **regresión logística**, la regularización L2 penaliza la suma de los cuadrados de los coeficientes. Esto reduce la magnitud de todos los coeficientes.\n",
        "- Al combinar un **mapa polinómico de orden 2** (que aumenta de manera significativa el número de características) con una penalización, se controla el riesgo de que el modelo, al disponer de muchas variables, se vuelva demasiado complejo y termine sobreajustando.\n",
        "\n",
        "Así se mantiene un compromiso entre la complejidad del modelo y su capacidad de predecir correctamente. Es decir, la regularización en este contexto garantiza que el aumento de la dimensionalidad (debido al mapeo polinómico) no provoque un modelo extremadamente complejo y sobreajustado.\n",
        "\n",
        "Para implementar el mapa polinómico de orden 2 se utiliza `PolynomialFeatures` de sklearn con los argumentos `degree=2` (para indicar el orden) y con `includebias=False` para que no se añada la columna de sesgo, ya que el modelo de regresión logística lo agrega por defecto.\n",
        "\n",
        "La regresión logística se realiza nuevamente mediante `LogisticRegression` de scikit-learn, esta vez con el parámetro `penalty=l2`, para penalizar la suma de los cuadrados de los coeficientes. Para establecer el valor de `C` (inversa de la tasa de aprendizaje) se ejecutan múltiples ajustes y se comparan los resultados de accuracy de entrenamiento y testeo como se muestra a continuación.\n",
        "\n",
        "Accuracy / C | 100    | 10     | 1      | 0.5    | 0.25   | 0.125  | **0.1125** | 0.1      | 0.075  | 0.05   | 0.01   |\n",
        "-------------|--------|--------|--------|--------|--------|--------|--------|----------|--------|--------|--------|\n",
        "Entrenamiento| 0.9920 | 0.9816 | 0.9044 | 0.8730 | 0.8414 | 0.8080 | **0.8041** | 0.7974   | 0.7871 | 0.7687 | 0.7151 |\n",
        "Test         | 0.6186 | 0.6279 | 0.6497 | 0.6567 | 0.6627 | 0.6637 | **0.6643** | 0.6637   | 0.6633 | 0.6603 | 0.6473 |\n",
        "\n",
        "Finalmente, se vuelve a entrenar el modelo para el valor de `C = 0.1125` con mejores resultados.\n"
      ]
    },
    {
      "cell_type": "code",
      "execution_count": null,
      "metadata": {
        "colab": {
          "base_uri": "https://localhost:8080/"
        },
        "id": "CIjG_1RvOna5",
        "outputId": "7a9072b8-94b0-47b8-9368-b577940755e5"
      },
      "outputs": [
        {
          "output_type": "stream",
          "name": "stdout",
          "text": [
            "Accuracy entrenamiento (con regularización, grado 2): 0.8056\n",
            "Accuracy test (con regularización, grado 2):         0.6589\n"
          ]
        }
      ],
      "source": [
        "from sklearn.preprocessing import PolynomialFeatures\n",
        "import gc\n",
        "gc.collect()\n",
        "\n",
        "\n",
        "# Generación del mapa polinómico de grado 2\n",
        "poly = PolynomialFeatures(degree=2, include_bias=False)\n",
        "X_train_poly = poly.fit_transform(X_train)\n",
        "X_test_poly  = poly.transform(X_test)\n",
        "\n",
        "# Creación del modelo con regularización L2\n",
        "model_reg = LogisticRegression(\n",
        "    penalty='l2',\n",
        "    C=0.1125,       # se ajusta\n",
        "    max_iter=10000,  # se aumenta si no converge\n",
        "    solver='lbfgs'\n",
        ")\n",
        "\n",
        "# Entrenamiento\n",
        "model_reg.fit(X_train_poly, y_train)\n",
        "\n",
        "# Medición de la accuracy\n",
        "y_pred_train_reg = model_reg.predict(X_train_poly)\n",
        "y_pred_test_reg  = model_reg.predict(X_test_poly)\n",
        "\n",
        "acc_train_reg = accuracy(y_train, y_pred_train_reg)\n",
        "acc_test_reg  = accuracy(y_test, y_pred_test_reg)\n",
        "\n",
        "print(f\"Accuracy entrenamiento (con regularización, grado 2): {acc_train_reg:.4f}\")\n",
        "print(f\"Accuracy test (con regularización, grado 2):         {acc_test_reg:.4f}\")\n",
        "\n"
      ]
    },
    {
      "cell_type": "code",
      "source": [],
      "metadata": {
        "id": "251kK_Ga2DqN"
      },
      "execution_count": null,
      "outputs": []
    },
    {
      "cell_type": "markdown",
      "metadata": {
        "id": "I6PAHBbUQf1G"
      },
      "source": [
        "# (e) Curva ROC"
      ]
    },
    {
      "cell_type": "markdown",
      "metadata": {
        "id": "t-gEY9QAucRV"
      },
      "source": [
        "La **curva ROC** (Receiver Operating Characteristic) es una herramienta gráfica esencial para evaluar el rendimiento de clasificadores binarios.\n",
        "\n",
        "Sus principales características son:\n",
        "\n",
        "- Representa la relación entre la tasa de verdaderos positivos (TPR o sensibilidad) y la tasa de falsos positivos (FPR) a lo largo de diferentes umbrales de decisión. Es decir, muestra cómo varía la capacidad del clasificador para identificar correctamente las instancias positivas en función del número de instancias negativas incorrectamente clasificadas como positivas.\n",
        "\n",
        "- Ejes de la gráfica:\n",
        "  - Eje X (FPR): Proporción de negativos que fueron clasificados erróneamente como positivos.\n",
        "  - Eje Y (TPR): Proporción de positivos correctamente identificados.\n",
        "\n",
        "- Interpretación del área bajo la curva (AUC):\n",
        "\n",
        "  El AUC cuantifica la capacidad del modelo para discriminar entre clases.\n",
        "  \n",
        "  - Un AUC de 1 indica un clasificador perfecto.\n",
        "  - Un AUC de 0.5 indica que el clasificador es equivalente a una decisión aleatoria.\n",
        "\n",
        "- Su uso permite comparar modelos y seleccionar el umbral de decisión óptimo.\n",
        "  Es especialmente útil en situaciones con clases desbalanceadas, ya que se centra en las tasas de aciertos y errores sin considerar la distribución de clases.\n",
        "\n",
        "En resumen, la curva ROC es una representación gráfica que ilustra la eficacia de un modelo de clasificación binaria al cambiar el umbral de decisión, y el AUC proporciona una media única y robusta de su capacidad discriminativa.\n",
        "\n",
        "De la gráfica resultante se obtienen las siguientes conclusiones:\n",
        "- **Beneficio de la regularización**: La curva del modelo con regularización domina claramente a la curva sin regularización: su mayor área bajo la curva implica que el **modelo regularizado discrimina mejor** entre gatos y perros.\n",
        "- **Comparación con el clasificador aleatorio**: Como se esperaba, ambos modelos superan al AUC de la línea base aleatoria, confirmando que **están extrayendo información útil** de las características.\n",
        "- **Efecto del sobreajuste**: El modelo regularizado obtiene mejor AUC, esto sugiere que la penalización aplicada a los coeficientes ayuda a evitar un sobrejuste y a mejorar la **capacidad de generalización**"
      ]
    },
    {
      "cell_type": "code",
      "execution_count": null,
      "metadata": {
        "colab": {
          "base_uri": "https://localhost:8080/",
          "height": 472
        },
        "id": "jMwfRIrguZrG",
        "outputId": "b6cccc7f-60a1-4ec6-c04f-2d33dc2fdc87"
      },
      "outputs": [
        {
          "output_type": "display_data",
          "data": {
            "text/plain": [
              "<Figure size 640x480 with 1 Axes>"
            ],
            "image/png": "[encoded data removed]"
          },
          "metadata": {}
        }
      ],
      "source": [
        "from sklearn.metrics import auc\n",
        "gc.collect()\n",
        "def compute_roc(y_true, y_scores, num_thresholds=100):\n",
        "    # Lista de umbrales entre 0 y 1\n",
        "    thresholds = np.linspace(0, 1, num_thresholds)\n",
        "    tpr_list = []\n",
        "    fpr_list = []\n",
        "\n",
        "    for thresh in thresholds:\n",
        "        # Clasificación binaria según el umbral\n",
        "        y_pred = (y_scores >= thresh).astype(int) #Convierte a un array de enteros\n",
        "\n",
        "        # Cálculo de VP, VN, FP, FN\n",
        "        # Verdaderos positivos\n",
        "        TP = np.sum((y_pred == 1) & (y_true == 1))\n",
        "        # Verdaderos negativos\n",
        "        TN = np.sum((y_pred == 0) & (y_true == 0))\n",
        "        # Falsos positivos\n",
        "        FP = np.sum((y_pred == 1) & (y_true == 0))\n",
        "        # Falsos negativos\n",
        "        FN = np.sum((y_pred == 0) & (y_true == 1))\n",
        "\n",
        "        # Cálculo de TPR y FPR\n",
        "        TPR = TP / (TP + FN) if (TP + FN) > 0 else 0 # evita una división por cero\n",
        "        FPR = FP / (FP + TN) if (FP + TN) > 0 else 0\n",
        "\n",
        "        tpr_list.append(TPR)\n",
        "        fpr_list.append(FPR)\n",
        "\n",
        "    return np.array(fpr_list), np.array(tpr_list), thresholds\n",
        "\n",
        "\n",
        "\n",
        "# 1) Modelo sin regularización\n",
        "y_score_no_reg = model_no_reg.predict_proba(X_test)[:,1]  # prob. de clase=1\n",
        "\n",
        "# 2) Modelo con regularización\n",
        "y_score_reg = model_reg.predict_proba(X_test_poly)[:,1]   # prob. de clase=1\n",
        "\n",
        "# 3) Modelo al azar (random).\n",
        "np.random.seed(42)\n",
        "y_score_rand = np.random.rand(len(y_test))\n",
        "\n",
        "# Curva ROC\n",
        "fpr_no_reg, tpr_no_reg, _ = compute_roc(y_test, y_score_no_reg)\n",
        "fpr_reg,    tpr_reg,    _ = compute_roc(y_test, y_score_reg)\n",
        "fpr_rand,   tpr_rand,   _ = compute_roc(y_test, y_score_rand)\n",
        "\n",
        "auc_no_reg = auc(fpr_no_reg, tpr_no_reg)\n",
        "auc_reg    = auc(fpr_reg, tpr_reg)\n",
        "auc_rand   = auc(fpr_rand, tpr_rand)\n",
        "\n",
        "\n",
        "# Gráfica\n",
        "plt.plot(fpr_no_reg, tpr_no_reg, label=f'Sin regularización (AUC = {auc_no_reg:.3f})')\n",
        "plt.plot(fpr_reg, tpr_reg, label=f'Con regularización (AUC = {auc_reg:.3f})')\n",
        "plt.plot([0, 1], [0, 1], 'k--', label=f'Random (AUC = {auc_rand:.3f})')\n",
        "plt.xlabel('False Positive Rate')\n",
        "plt.ylabel('True Positive Rate')\n",
        "plt.title('Curva ROC comparación')\n",
        "plt.legend()\n",
        "plt.grid(True)\n",
        "plt.show()\n"
      ]
    }
  ],
  "metadata": {
    "colab": {
      "provenance": [],
      "authorship_tag": "ABX9TyODrUlx5pUUyiCp9MCDuRhv",
      "include_colab_link": true
    },
    "kernelspec": {
      "display_name": "Python 3",
      "name": "python3"
    },
    "language_info": {
      "name": "python"
    }
  },
  "nbformat": 4,
  "nbformat_minor": 0
}