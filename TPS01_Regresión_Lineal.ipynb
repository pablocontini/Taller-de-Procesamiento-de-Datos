{
  "nbformat": 4,
  "nbformat_minor": 0,
  "metadata": {
    "colab": {
      "provenance": [],
      "toc_visible": true,
      "authorship_tag": "ABX9TyOhvzvijMZn3JsCptHeaxVk",
      "include_colab_link": true
    },
    "kernelspec": {
      "name": "python3",
      "display_name": "Python 3"
    },
    "language_info": {
      "name": "python"
    }
  },
  "cells": [
    {
      "cell_type": "markdown",
      "metadata": {
        "id": "view-in-github",
        "colab_type": "text"
      },
      "source": [
        "<a href=\"https://colab.research.google.com/github/pablocontini/Taller-de-Procesamiento-de-Datos/blob/main/TPS01_Regresi%C3%B3n_Lineal.ipynb\" target=\"_parent\"><img src=\"https://colab.research.google.com/assets/colab-badge.svg\" alt=\"Open In Colab\"/></a>"
      ]
    },
    {
      "cell_type": "markdown",
      "source": [
        "# Enunciado"
      ],
      "metadata": {
        "id": "6q-I8ALcsIY5"
      }
    },
    {
      "cell_type": "markdown",
      "source": [
        "**Regresión Lineal**\n",
        "\n",
        "En el mercado de smartphones, los dispositivos con mayor capacidad de almacenamiento suelen tener baterías más duraderas. Modelar estos datos podría ayudar a estimar la duración de la batería en función de su capacidad de almacenamiento, algo útil para los consumidores a la hora de elegir un nuevo dispositivo. Sea $X$ la capacidad de almacenamiento de los smartphones (en TB) e $Y$ la duración de su batería (en días), con densidad de probabilidad conjunta de la forma:\n",
        "$$ p_{X,Y}\\left(x,y\\right) = \\frac{3}{4} \\cdot 𝟙 \\left\\{0 < y < 1 + x^2, 0 < x < 1\\right\\}$$\n",
        "\n",
        "(a) *Soluciones óptimas:*\n",
        "  \n",
        "  1. Calcular la esperanza condicional.\n",
        "  2. Calcular el error bayesiano.\n",
        "  3. Calcular la recta de regresión.\n",
        "\n",
        "Ayuda: Las únicas integrales que debe resolver son con respecto a la marginal $p_X(x)$. El resto de los cálculos debe hacerse utilizando propiedades.\n",
        "\n",
        "(b) *Simulación:* Utilizando $\\texttt{random.uniform}$ (numpy), generar un dataset de 500 pares de muestras.\n",
        "\n",
        "Ayuda:Truncada de uniforme es uniforme y simular truncadas es intuitivo.\n",
        "\n",
        "(c) *Regresión Lineal:*\n",
        "\n",
        "  1. Implementar una regresión lineal (matricial) a partir de los datos generados previamente. El código debe estar estructurado de la siguiente manera:\n",
        "\n",
        "\n",
        "```python\n",
        "class regresion_lineal:\n",
        "    # Opcional, para inicializar atributos o declarar hiperparámetros\n",
        "    def __init__(self,...\n",
        "\n",
        "    # Etapa de entrenamiento\n",
        "    def fit(self, X, y):\n",
        "\n",
        "    # Etapa de testeo\n",
        "    def predict(self, X):\n",
        "```\n",
        "  2. Entrenar la regresión lineal con el dataset generado anteriormente.\n",
        "  3. Utilizar el regresor para predecir la duración de una batería de 356GB.\n",
        "\n",
        "(d) *Comparación*: Graficar en una misma figura (pyplot) el soporte, la esperanza, la esperanza condicional, la recta de regresión (teórica) y la regesión lineal hallada.\n",
        "\n",
        "(e) Repetir el inciso (c) utilizando gradiente descendiente."
      ],
      "metadata": {
        "id": "6JzPqCk5-OJD"
      }
    },
    {
      "cell_type": "markdown",
      "source": [
        "# Soluciones óptimas"
      ],
      "metadata": {
        "id": "ii0vldpyLo1M"
      }
    },
    {
      "cell_type": "markdown",
      "source": [
        "## Esperanza condicional\n"
      ],
      "metadata": {
        "id": "MexV7qDGLzlr"
      }
    },
    {
      "cell_type": "markdown",
      "source": [
        "La esperanza condicional $\\mathbb{E}\\left[ Y \\mid X = x\\right]$ representa el valor promedio esperado de la duración de la batería, $Y$, dado que se se conoce el valor específico de la capacidad de almacenamiento, $X$.\n",
        "\n",
        "Es el mejor estimador en el sentido del menor error cuadrático medio. Es decir, cualquier otra estimación $\\hat{Y} = \\varphi(X)$ inevitablemente produce un error cuadrático medio mayor o igual a $\\mathbb{E}\\left[ Y \\mid X = x\\right]$.\n",
        "\n",
        "Por definición, se expresa como:\n",
        "$$\\mathbb{E}\\left[ Y \\mid X = x\\right] = \\int_{-\\infty}^\\infty y\\, p_{Y \\mid X} \\left(y \\mid x\\right) \\mathrm{d}y$$\n",
        "A su vez, la densidad condicional de $Y$ dado $X=x$ se define como:\n",
        "$$p_{Y \\mid X} (y \\mid x)=\\frac{p_{X, Y}\\left(x, y\\right)}{p_X(X)}$$\n",
        "A continuación, se determinan las distribuciones necesarias para llevar a cabo el cálculo.\n",
        "\n",
        "> **Marginal $p_X(x)$**: <br>\n",
        "Dada la densidad conjunta\n",
        "$$ p_{X, Y}\\left(x, y\\right) = \\frac{3}{4} \\cdot 𝟙 \\left\\{0 < y < 1 + x^2, 0 < x < 1\\right\\}$$\n",
        "la densidad marginal de $X$ se obtiene integrando sobre todos los valores de $y$:\n",
        "$$p_X\\left(x\\right)=\\int_{-\\infty}^{\\infty} p_{X, Y}\\left(x, y\\right) \\mathrm{d}y$$\n",
        "Debido a la función indicadora $ 𝟙 \\left\\{0 < y < 1 + x^2\\right\\}$, el intervalo de integración se reduce a $[0,1 + x^2]$, así:\n",
        "$$p_X\\left(x\\right)=\\int_{0}^{1 + x^2} \\frac{3}{4} \\mathrm{d}y = \\frac{3}{4}\\Bigl[ y\\Bigr]_0^{1 + x^2}=\\frac{3}{4}\\left(1 + x^2\\right)$$\n",
        "Esto es válido únicamente para $0 < x < 1$, fuera de ese intervalo, la densidad es cero. En forma compacta:\n",
        "$$p_X\\left(x\\right)=\\frac{3}{4}\\left(1 + x^2\\right) \\cdot 𝟙 \\left\\{0 < x < 1\\right\\}$$\n",
        "\n",
        "> **Condicional  $p_{Y \\mid X} (y \\mid x)$**: <br>\n",
        "Usando las expresiones de la densidad conjunta y la marginal se obtiene:\n",
        "$$p_{Y \\mid X} (y \\mid x) = \\frac{\\frac{3}{4}}{\\frac{3}{4}\\left(1 + x^2\\right)}=\\frac{1}{1 + x^2} \\cdot 𝟙 \\left\\{0 < y < 1 + x^2\\right\\}$$\n",
        "Es decir, condicionado a $X=x$ (con $0 < x < 1)$, la variable $Y \\mid X = x$ está uniformemente distribuida en el intervalo $\\left(0,1 + x^2\\right)$\n",
        "\n",
        "> **Esperanza condicional $\\mathbb{E}\\left[Y\\mid X = x\\right]$** <br>\n",
        "Dado que $Y \\mid X = x \\sim \\mathcal{U}\\left(0, 1 + x^2\\right)$, su esperanza se puede calcular a partir de la conocida media de una distribución uniforme ($X\\sim\\mathcal{U}\\left(a, b\\right)\\rightarrow\\mathbb{E}\\left[X\\right]=\\left(a+b\\right)/2$):\n",
        "$$\\mathbb{E}\\left[Y\\mid X = x\\right] = \\frac{\\left(0\\right) + \\left(1 + x^2\\right)}{2}=\\frac{1 + x^2}{2}$$\n",
        "\n",
        "En resumen, la esperanza condicional de $Y$ dado $X = x$ es:\n",
        "$$\\boxed{\\mathbb{E}\\left[Y\\mid X = x\\right] =\\frac{1 + x^2}{2}, \\text{ para }0 < x < 1}$$\n",
        "\n"
      ],
      "metadata": {
        "id": "R16F6tLa1iGp"
      }
    },
    {
      "cell_type": "markdown",
      "source": [
        "## Error bayesiano"
      ],
      "metadata": {
        "id": "uWsIsugUiUIO"
      }
    },
    {
      "cell_type": "markdown",
      "source": [
        "El error bayesiano representa la incertidumbre mínima que queda sobre la duración de la batería, aún cuando se conoce exactamente la capacidad de almacenamiento $X=x$. Éste no se puede reducir, ni siquiera con la predicción óptima $\\mathbb{E}\\left[Y \\mid X = x\\right]$.\n",
        "\n",
        "El error bayesiano mide la dispersión promedio de $Y$ alrededor de su esperanza condicional, sobre todos los valores posibles de $X$.\n",
        "\n",
        "Su expresión surge de evaluar el riesgo del estimador óptimo y es:\n",
        "$$\\mathbb{E}\\left[\\text{Var}\\left(Y \\mid X\\right)\\right]$$\n",
        "\n",
        ">En el contexto del problema, $Y\\mid X \\sim \\mathcal{U}\\left(0,1+x^2\\right)$, por lo tanto su varianza se puede calcular a partir de la expresión conocida de una distribución uniforme ($X\\sim\\mathcal{U}\\left(a, b\\right)\\rightarrow\\text{Var}\\left(X\\right)=\\left(b-a\\right)^2/2$):\n",
        "\\begin{align}\n",
        "\\text{Var}\\left(Y\\mid X\\right) = \\frac{\\left[\\left(1+x^2\\right) - \\left(0\\right)\\right]^2}{12}=\\frac{\\left(1+x^2\\right)^2}{12}=\\frac{1+2x^2+x^4}{12}\n",
        "\\end{align}\n",
        "\n",
        ">Aplicando el operador esperanza y utilizando la propiedad de linealidad se obtiene:\n",
        "\\begin{align}\n",
        "\\mathbb{E}\\left[\\text{Var}\\left(Y\\mid X\\right)\\right] = \\mathbb{E}\\left[\\frac{1+2\\,X^2+X^4}{12}\\right]=\\frac{1}{12}\\left(\\mathbb{E}\\left[1\\right]+2\\,\\mathbb{E}\\left[X^2\\right]+\\mathbb{E}\\left[X^4\\right]\\right)\n",
        "\\end{align}\n",
        "\n",
        ">En general, el valor de $\\mathbb{E}\\left[X^k\\right]$ es:\n",
        "$$\\mathbb{E}\\left[X^k\\right]=\\int_0^1 x^k\\,p_X(x)\\mathrm{d}x=\\int_0^1 x^k\\,\\frac{3}{4}\\left(1+x^2\\right)\\mathrm{d}x=\\frac{3}{4}\\left[\\frac{x^{k+1}}{k+1}+\\frac{x^{k+3}}{k+3}\\right]_0^1=\\frac{3}{4}\\left[\\frac{1}{k+1}+\\frac{1}{k+3}\\right]$$\n",
        "\n",
        ">Reemplazando en la expresión anterior y sumando:\n",
        "\\begin{align}\n",
        "\\mathbb{E}\\left[\\text{Var}\\left(Y\\mid X\\right)\\right] = \\frac{1}{12}\\left[1+2\\frac{3}{4}\\left(\\frac{1}{3}+\\frac{1}{5}\\right)+\\frac{3}{4}\\left(\\frac{1}{5}+\\frac{1}{7}\\right)\\right]=\\frac{6}{35} \\end{align}\n",
        "\n",
        "Por lo tanto, el error bayesiano es\n",
        "$$\\boxed{\\mathbb{E}\\left[\\text{Var}\\left(Y\\mid X\\right)\\right] =\\frac{6}{35}\\simeq 0.17143}$$\n"
      ],
      "metadata": {
        "id": "QlWqhu0Wih_o"
      }
    },
    {
      "cell_type": "markdown",
      "source": [
        "## Recta de regresión"
      ],
      "metadata": {
        "id": "lM2xC17ZhCtz"
      }
    },
    {
      "cell_type": "markdown",
      "source": [
        "La recta de regresión es la mejor línea recta para predecir la duración de la batería, $Y$, en función del almacenamiento, $X$. Es una aproximación lineal de la verdadera relación, que es no lineal.\n",
        "\n",
        "Su expresión surge de encontrar $a$ y $b$ que minimicen el error cuadrático medio respecto de $Y$, es decir:\n",
        "$$min_{a,b}\\mathbb{E}\\left[\\left(Y-\\left(a+bX\\right)\\right)^2\\right]$$\n",
        "\n",
        "El resultado es:\n",
        "$$\\hat{Y}=a + b\\,X, \\;\\;\\; b = \\frac{\\text{Cov}\\left(X, Y\\right)}{\\text{Var}\\left(x\\right)}, \\;\\;\\; a = \\mathbb{E}\\left[Y\\right] - b\\,\\mathbb{E}\\left[X\\right]$$\n",
        "\n",
        ">**Esperanza $\\mathbb{E}\\left[X\\right]$**: <br>\n",
        "De la expresión general obtenida en el punto anterior resulta:\n",
        "$$\\mathbb{E}\\left[X\\right] = \\frac{3}{4}\\left(\\frac{1}{2} + \\frac{1}{4}\\right)=\\frac{9}{16}$$\n",
        "\n",
        ">**Esperanza $\\mathbb{E}\\left[Y\\right]$**: <br>\n",
        "Por la ley de la esperanza total se puede escribir:\n",
        "$$\\mathbb{E}\\left[Y\\right]=\\mathbb{E}\\left[\\mathbb{E}\\left[Y\\mid X\\right]\\right]$$\n",
        "Pero $\\mathbb{E}\\left[Y\\mid X\\right]$ fue hallada en el primer punto, por lo tanto:\n",
        "$$\\mathbb{E}\\left[Y\\right]=\\mathbb{E}\\left[\\frac{1+X^2}{2}\\right]$$\n",
        "Por linealidad del operador esperanza:\n",
        "$$\\mathbb{E}\\left[Y\\right]=\\frac{1}{2}\\left(1+\\mathbb{E}\\left[X^2\\right]\\right)$$\n",
        "Nuevamente, utilizando la expresión general del punto anterior:\n",
        "$$\\mathbb{E}\\left[X^2\\right] = \\frac{3}{4}\\left(\\frac{1}{3} + \\frac{1}{5}\\right)=\\frac{2}{5}$$\n",
        "Reemplazando:\n",
        "$$\\mathbb{E}\\left[Y\\right]=\\frac{1}{2}\\left(1+\\frac{2}{5}\\right)=\\frac{7}{10}$$\n",
        "\n",
        ">**Varianza $\\text{Var}\\left(X\\right)$**: <br>\n",
        "Por definición, la varianza de $X$ es:\n",
        "$$\\text{Var}\\left(X\\right) = \\mathbb{E}\\left[\\left(X-\\mathbb{E}\\left[X\\right]\\right)^2\\right] = \\mathbb{E}\\left[X^2\\right] - \\left(\\mathbb{E}\\left[X\\right]\\right)^2$$\n",
        "Reemplazando los valores de $\\mathbb{E}\\left[X\\right]$ y $\\mathbb{E}\\left[X^2\\right]$ obtenidos anteriormente:\n",
        "$$\\text{Var}\\left(X\\right) = \\frac{2}{5}-\\left(\\frac{9}{16}\\right)^2=\\frac{107}{1280}$$\n",
        "\n",
        ">**Covarianza $\\text{Cov}\\left(X, Y\\right)$**: <br>\n",
        "Por definición, la covarianza entre $X$ e $Y$ es:\n",
        "\\begin{align}\n",
        "  \\text{Cov}\\left(X, Y\\right) &= \\mathbb{E}\\left[\\left(X-\\mathbb{E}\\left[X\\right]\\right)\\left(Y-\\mathbb{E}\\left[Y\\right]\\right)\\right]= \\mathbb{E}\\left[X\\,Y\\right] - \\mathbb{E}\\left[X\\right]\\,\\mathbb{E}\\left[Y\\right]\\\\\n",
        "\\end{align}\n",
        "Resta obtener $\\mathbb{E}\\left[X\\,Y\\right]$. Por la ley de la esperanza total se puede escribir:\n",
        "$$\\mathbb{E}\\left[XY\\right]=\\mathbb{E}\\left[\\mathbb{E}\\left[XY\\mid X\\right]\\right]$$\n",
        "Aplicando linealidad al interior:\n",
        "$$\\mathbb{E}\\left[XY\\right]=\\mathbb{E}\\left[X\\mathbb{E}\\left[Y\\mid X\\right]\\right]$$\n",
        "Reemplazando $\\mathbb{E}\\left[Y\\mid X\\right]$ por la expresión obtenida en el primer punto:\n",
        "$$\\mathbb{E}\\left[XY\\right]=\\mathbb{E}\\left[X\\left(\\frac{1+X^2}{2}\\right)\\right]$$\n",
        "Relizando el producto y aplicando linealidad del operador esperanza:\n",
        "$$\\mathbb{E}\\left[XY\\right]=\\frac{1}{2}\\left(\\mathbb{E}\\left[X\\right]+\\mathbb{E}\\left[X^3\\right]\\right)$$\n",
        "Nuevamente, mediante la expresión general del punto anterior:\n",
        "$$\\mathbb{E}\\left[X^3\\right]=\\frac{3}{4}\\left(\\frac{1}{4}+\\frac{1}{6}\\right)=\\frac{5}{16}$$\n",
        "Reemplazando $\\mathbb{E}\\left[X\\right]$ y $\\mathbb{E}\\left[X^3\\right]$:\n",
        "$$\\mathbb{E}\\left[XY\\right]=\\frac{1}{2}\\left(\\frac{9}{16} + \\frac{5}{16}\\right)=\\frac{7}{16}$$\n",
        "Por lo tanto, la covarianza es:\n",
        "$$\\text{Cov}\\left(X, Y\\right)=\\frac{7}{16}-\\frac{9}{16}\\frac{7}{10}=\\frac{7}{160}$$\n",
        "\n",
        "Por último, los coeficientes de la recta son:\n",
        "\\begin{align}\n",
        "b&=\\frac{Cov\\left(X,Y\\right)}{Var\\left(X\\right)}=\\frac{\\frac{7}{160}}{\\frac{107}{1280}}=\\frac{56}{107}\\\\\n",
        "a&=\\mathbb{E}[Y] - b\\,\\mathbb{E}[X] = \\frac{7}{10} - \\frac{56}{107}\\frac{9}{16}=\\frac{217}{535}\n",
        "\\end{align}\n",
        "\n",
        "Y la recta de regresión es:\n",
        "$$\\boxed{\\hat{Y}=\\frac{217}{535}+\\frac{56}{107}\\,X\\simeq 0.40561 + 0.52336\\,X}$$"
      ],
      "metadata": {
        "id": "9BOBT_3UhFbc"
      }
    },
    {
      "cell_type": "markdown",
      "source": [
        "# Simulación"
      ],
      "metadata": {
        "id": "qlP2OhLDsRkM"
      }
    },
    {
      "cell_type": "markdown",
      "source": [
        "Se propone generar un dataset de 500 pares de muestras utilizando $\\texttt{random.uniform}$ (numpy).\n",
        "\n",
        "En la distribución propuesta, $\\Omega=\\left\\{\\left(x, y\\right): 0 < x < 1, 0 < y < 1 + x^2\\right\\}$, la cota superior de $y$ depende de $x$. Por lo tanto, no se puede usar directamente $\\texttt{np.random.uniform}$ para muestrear $\\left(x, y\\right)$ en esa región, ya que ésta genera muestras independientes en intervalos fijos de la forma $\\left[a, b\\right]\\times \\left[c, d\\right]$, no en una región con límites variables (dependientes de otra coordenada).\n",
        "\n",
        "\n",
        "Una manera de lograrlo es en primer lugar generar $X\\sim\\mathcal{U}\\left(0, 1\\right)$ y luego, dado $X=x$ generar $Y\\sim\\mathcal{U}\\left(0, 1 + x^2\\right)$, ya sea mediante un bucle \"para cada $x$, $\\texttt{np.random.uniform(0, 1 + x**2)}$:\n",
        "```python\n",
        "def sample_loop(N):\n",
        "    \"\"\"\n",
        "    Genera N pares (X, Y) por medio de un bucle.\n",
        "    \"\"\"\n",
        "  # 1) Simular X ~ U(0, 1)\n",
        "  X = np.random.uniform(low=0, high=1, size=N)\n",
        "  # 2) Para cada x, simular Y ~ U(0, 1 + x^2)\n",
        "  Y = np.array([np.random.uniform(0, 1 + x**2) for x in X])\n",
        "  return X, Y\n",
        "```\n",
        "o, de manera vectorial, escalando $Y$ por $1 + X^2$.\n",
        "```python\n",
        "def sample_vec(N):\n",
        "    \"\"\"\n",
        "    Genera N pares (X, Y) de manera vectorial.\n",
        "    \"\"\"\n",
        "  # 1) Simular X ~ U(0, 1)\n",
        "  X = np.random.uniform(low=0, high=1, size=N)\n",
        "  # 2) Para cada x, simular Y ~ U(0, 1 + x^2)\n",
        "  Y = np.random.uniform(0, 1, size=N) * (1 + X**2)\n",
        "  return X, Y\n",
        "```\n",
        "\n",
        "Otra manera, la recomendada en clase, es notando que $0 < y < 1 + x^2 \\leq 2$, generar $(x^\\ast, y^\\ast)$ en $\\left[0, 1\\right]\\times \\left[0, 2\\right]$ y luego aceptar las muestras solo si $y^\\ast < 1 + \\left(x^\\ast\\right)^2$.\n",
        "\n",
        "El área de $\\Omega$ es $\\int_0^1\\left(1 + x^2\\right)\\mathrm{d}x=4/3$. La caja total tiene área $2$. Entonces la tasa de acpetación es $\\frac{4/3}{2}=\\frac{2}{3}$. En otras palabras, se rechaza aproximadamente un 33\\% de las muestras."
      ],
      "metadata": {
        "id": "JhdViTo4Zddi"
      }
    },
    {
      "cell_type": "code",
      "source": [
        "def sample_rejection(N):\n",
        "    \"\"\"\n",
        "    Genera N pares (X, Y) usando rechazo en la caja [0,1]x[0,2].\n",
        "    \"\"\"\n",
        "    out_X = []\n",
        "    out_Y = []\n",
        "\n",
        "    while len(out_X) < N:\n",
        "        X = np.random.uniform(0, 1, 2 * N)\n",
        "        Y = np.random.uniform(0, 2, 2 * N)\n",
        "\n",
        "        mask = (Y < (1 + X**2))\n",
        "        # Aceptados\n",
        "        out_X = X[mask]\n",
        "        out_Y = Y[mask]\n",
        "\n",
        "    return (out_X[:N], out_Y[:N])\n"
      ],
      "metadata": {
        "id": "fOgklrpMtS30"
      },
      "execution_count": null,
      "outputs": []
    },
    {
      "cell_type": "code",
      "source": [
        "# 1) Número de muestras\n",
        "N = 500\n",
        "\n",
        "# 2) Generar el dataset\n",
        "X, Y = sample_rejection(N)"
      ],
      "metadata": {
        "id": "IfxDAZlk1hXc"
      },
      "execution_count": null,
      "outputs": []
    },
    {
      "cell_type": "markdown",
      "source": [
        "# Regresión Lineal"
      ],
      "metadata": {
        "id": "MuJ3uR7eeKIc"
      }
    },
    {
      "cell_type": "markdown",
      "source": [
        "## Implementación"
      ],
      "metadata": {
        "id": "QND_pelRfA9m"
      }
    },
    {
      "cell_type": "markdown",
      "source": [
        "Como se mencionó anteriormente, la función que minimiza el riesgo esperado es la esperanza condicional. Sin embargo, en la práctica, esta distribución conjunta no se conoce y se recurre a aproximaciones utilizando datos de entrenamiento.\n",
        "\n",
        "Como no es posible calcular directamente la esperanza condicional, se minimiza el riesgo empírico, que no es más que el promedio de la función costo en una muestra de entrenamiento de $n$ observaciones.\n",
        "$$\\text{Riesgo empírico}: \\frac{1}{n}\\sum_{i=1}^n\\ell \\left(X_i, Y_i\\right)=\\frac{1}{n}\\sum_{i=1}^n\\left(Y_i-\\varphi(X_i)\\right)^2$$\n",
        "De este modo, el problema se formula como:\n",
        "$$\\min_{\\varphi\\in\\mathcal{H}}\\frac{1}{n}\\sum_{i=1}^n\\left(Y_i-\\varphi(X_i)\\right)^2$$\n",
        "En el contexto de regresión linal esto se traduce a:\n",
        "$$(w, b)\\in \\arg \\min_{(w, b)}\\sum_{i=1}^n\\left(w^T\\cdot X_i + b - Y_i\\right)^2$$\n",
        "Por simplicidad, se unifica la notación incluyendo el término independiente $b$ como un coeficiente más. Para ello, se agrega una componente extra a $X$ (siempre igual a 1) y se amplía el vector $\\mathbf{w}$.\n",
        "$$\\mathbf{X}=\\begin{bmatrix}1 & X_1^T\\\\ \\vdots & \\vdots\\\\ 1 & X_n^T \\end{bmatrix}\\;\\;\\;\\mathbf{y}=\\begin{bmatrix}Y_1\\\\ \\vdots \\\\ Y_n\\end{bmatrix}\\;\\;\\;\\mathbf{w}=\\begin{bmatrix}b \\\\ w\\end{bmatrix}$$\n",
        "En esta notación, el problema se formula como:\n",
        "$$(w, b)\\in \\arg \\min_{\\mathbf{w}}\\left\\lVert \\mathbf{X}\\cdot \\mathbf{w} - \\mathbf{y} \\right\\rVert^2$$\n",
        "El problema de minimizar $J(\\mathbf{w})=\\frac{1}{n}\\left\\lVert \\mathbf{X}\\cdot \\mathbf{w} - \\mathbf{y} \\right\\rVert^2$ es un problema convexo (existe un mínimo global), cuya solución analítica se encuentra resolviendo las derivadas en cero:\n",
        "$$\\frac{\\partial}{\\partial\\mathbf{w}}\\left\\lVert \\mathbf{X}\\cdot \\mathbf{w} - \\mathbf{y} \\right\\rVert^2=0$$\n",
        "Si la matriz $\\mathbf{X^T}\\mathbf{X}$ es inversible, la solución se puede escribir directamente como:\n",
        "$$\\mathbf{w}=\\left(\\mathbf{X}^T\\mathbf{X}\\right)^{-1}\\mathbf{X}^T\\mathbf{y}$$\n",
        "\n",
        "\n",
        "A continuación se desarrolla la implementación de esa solución en Python.\n",
        "\n",
        "Una vez definidos todos los atributos de la clase se implementa el método $\\texttt{fit}$.\n",
        "\n",
        "En primer lugar se construye la matriz $X$, con la componenente extra agregada como se indicó anteriormente, mediante:\n",
        "```python\n",
        "  # Se construye la matriz : [1, X]\n",
        "  X_ = np.column_stack((np.ones_like(X), X))\n",
        "```\n",
        "- $\\texttt{np.ones_like(X)}$ genera un array del mismo tamaño que $\\texttt{X}$, pero lleno de unos.\n",
        "- $\\texttt{np.column_stack((a, b))}$ toma dos arrays 1D (ambos de longitud N) y los apila como columnas para producir un array 2d de forma (N,2), donde la primera columna será $a$ y la segunda $b$.\n",
        "\n",
        "Luego se aplica la fórmula matricial\n",
        "```python\n",
        "  # Se aplica la fórmula matricial\n",
        "  # w = (X^T X)^{-1} X^T y\n",
        "  self.coef_ = np.linalg.inv(X_.T @ X_) @ (X_.T @ y)\n",
        "```\n",
        "- $\\texttt{X_.T}$ calcula la transpuesta de la matriz $\\texttt{X_}$.\n",
        "- $\\texttt{np.linalg.inv*(..)}$ calcula la matriz inversa.\n",
        "- El operador $\\texttt{@}$ es la multiplicación matricial en Python.\n",
        "- Se asgina el resultado a $\\texttt{self.coef_}$ que son los parámetros del modelo.\n",
        "\n",
        "El segundo método implementado es $\\texttt{fit}$, que construye la matriz $\\texttt{[1, X]}$ y la multiplica matricialmente por los coeficientes del modelo.\n",
        "```python\n",
        "  # Se construye la matriz : [1, X]\n",
        "  # Retorna las predicciones\n",
        "  X_ = np.column_stack((np.ones_like(X), X))\n",
        "  return X_ @ self.coef_\n",
        "```"
      ],
      "metadata": {
        "id": "jElqIj-ue5Be"
      }
    },
    {
      "cell_type": "code",
      "source": [
        "import numpy as np\n",
        "\n",
        "class linear_regression:\n",
        "    def __init__(self):\n",
        "        self.coef_ = None\n",
        "\n",
        "    # Etapa de entrenamiento\n",
        "    def fit(self, X, y):\n",
        "        \"\"\"\n",
        "        Ajusta el modelo lineal a los datos.\n",
        "        X: array shape (N,) con las características.\n",
        "        y: array shape (N,) con las etiquetas (variable respuesta).\n",
        "        \"\"\"\n",
        "\n",
        "        # Se construye la matriz : [1, X]\n",
        "        # Esto produce shape (N,2).\n",
        "        X_ = np.column_stack((np.ones_like(X), X))\n",
        "        # Se aplica la fórmula matricial\n",
        "        # w = (X^T X)^{-1} X^T y\n",
        "        self.coef_ = np.linalg.inv(X_.T @ X_) @ (X_.T @ y)\n",
        "\n",
        "    # Etapa de testeo\n",
        "    def predict(self, X):\n",
        "        \"\"\"\n",
        "        Recibe X y devuelve las predicciones.\n",
        "        \"\"\"\n",
        "        # Se construye la matriz : [1, X]\n",
        "        # Retorna las predicciones\n",
        "        X_ = np.column_stack((np.ones_like(X), X))\n",
        "        return X_ @ self.coef_"
      ],
      "metadata": {
        "id": "LdEtIcpP0J2g"
      },
      "execution_count": null,
      "outputs": []
    },
    {
      "cell_type": "markdown",
      "source": [
        "## Entrenamiento"
      ],
      "metadata": {
        "id": "rjDI13OEfJZC"
      }
    },
    {
      "cell_type": "markdown",
      "source": [
        "Para entrenar la regresión lineal con el dataset generado anteriormente se llama al método $\\texttt{fit}$ y se imprimen los parámetros ajustados."
      ],
      "metadata": {
        "id": "5uxlz_HW12or"
      }
    },
    {
      "cell_type": "code",
      "source": [
        "# 1) Instanciar el modelo\n",
        "modelo = linear_regression()\n",
        "\n",
        "# 2) Ajustar el modelo a los datos\n",
        "modelo.fit(X, Y)\n",
        "\n",
        "# 3) Imprimir parámetros ajustados\n",
        "\n",
        "print(f\"Parámetros encontrados: Ordenada al origen= {modelo.coef_[0]:.6f}, Pendiente= {modelo.coef_[1]:.6f}\")\n"
      ],
      "metadata": {
        "colab": {
          "base_uri": "https://localhost:8080/"
        },
        "id": "pH_hmtFlfMTD",
        "outputId": "3d96ae54-6664-49f9-ce11-24d7eb306f85"
      },
      "execution_count": null,
      "outputs": [
        {
          "output_type": "stream",
          "name": "stdout",
          "text": [
            "Parámetros encontrados: Ordenada al origen= 0.385605, Pendiente= 0.526664\n"
          ]
        }
      ]
    },
    {
      "cell_type": "markdown",
      "source": [
        "## Predicción"
      ],
      "metadata": {
        "id": "knRvmdS-fUP8"
      }
    },
    {
      "cell_type": "markdown",
      "source": [
        "Luego se utiliza el regresor para predecir la duración de una batería de 356GB mediante el método $\\texttt{predict}$."
      ],
      "metadata": {
        "id": "P7yD3pRJ2Cj2"
      }
    },
    {
      "cell_type": "code",
      "source": [
        "x_nuevo = np.array([0.356])\n",
        "y_pred = modelo.predict(x_nuevo)\n",
        "print(f\"Predicción de duración (en días) para 356GB: {y_pred[0]:.4f} días.\")"
      ],
      "metadata": {
        "colab": {
          "base_uri": "https://localhost:8080/"
        },
        "id": "ic_rZqvjdm3N",
        "outputId": "9afcfb76-d44f-4886-dea3-cca70935aa0a"
      },
      "execution_count": null,
      "outputs": [
        {
          "output_type": "stream",
          "name": "stdout",
          "text": [
            "Predicción de duración (en días) para 356GB: 0.5731 días.\n"
          ]
        }
      ]
    },
    {
      "cell_type": "markdown",
      "source": [
        "# Comparación\n"
      ],
      "metadata": {
        "id": "NE9CYxY2gqjg"
      }
    },
    {
      "cell_type": "markdown",
      "source": [
        "A continuación se grafica en una misma figura el soporte, las muestras, la esperanza, la esperanza condicional, la recta de regresión (teórica) y la regesión lineal hallada."
      ],
      "metadata": {
        "id": "x0zC1qCX82PP"
      }
    },
    {
      "cell_type": "code",
      "source": [
        "import matplotlib.pyplot as plt\n",
        "\n",
        "plt.figure(figsize=(8, 6))\n",
        "# 1) Soporte: 0<x<1\n",
        "t = np.linspace(0, 1, 100);\n",
        "\n",
        "# 2) Puntos de datos simulados\n",
        "plt.scatter(X, Y, alpha=0.3, color='blue',s=2, label=\"Muestras simuladas\")\n",
        "\n",
        "# 3) Soporte: rellenar bajo (1 + x^2)\n",
        "plt.fill_between(t, 0, t**2+1, color='lightgray', alpha=0.3,label='Soporte $(0<y<1+x^2)$')\n",
        "\n",
        "# 4) Recta de regresión teórica\n",
        "plt.plot(t,(217/535)+(56/107)*t,'r--', lw=2, label=\"Regresión teórica: $y = 0.4056 + 0.5234\\,X$\")\n",
        "\n",
        "# 5) Línea horizontal E[Y]\n",
        "plt.axhline(0.7, color='g', linestyle=':', lw=2,label=\"$\\mathbb{E}[Y] = 0.7 $\")\n",
        "\n",
        "# 6) Curva de la esperanza condicional\n",
        "plt.plot(t,(1+t**2)/2, 'b-', lw=2,label=\"$\\mathbb{E}[Y\\mid X]=(1 + X^2)/2$\")\n",
        "\n",
        "# 7) Recta de regresión hallada con el dataset\n",
        "plt.plot(t,modelo.coef_[0]+modelo.coef_[1]*t, 'm-', lw=2, label=f\"Regresión ajustada: y = {modelo.coef_[0]:.4f}+{modelo.coef_[1]:.4f}x\")\n",
        "\n",
        "plt.xlabel('X (TB)')\n",
        "plt.ylabel('Y (días)')\n",
        "plt.grid()\n",
        "plt.legend()\n",
        "plt.xlim(0,1)\n",
        "plt.ylim(0,2)\n",
        "plt.show()"
      ],
      "metadata": {
        "colab": {
          "base_uri": "https://localhost:8080/",
          "height": 547
        },
        "id": "fnpNvJb-hCre",
        "outputId": "0273134c-a2df-465e-d3ce-ae34f6f6713c"
      },
      "execution_count": null,
      "outputs": [
        {
          "output_type": "display_data",
          "data": {
            "text/plain": [
              "<Figure size 800x600 with 1 Axes>"
            ],
            "image/png": "[encoded data removed]"
          },
          "metadata": {}
        }
      ]
    },
    {
      "cell_type": "markdown",
      "source": [
        "# Gradiente descendente"
      ],
      "metadata": {
        "id": "MvR3abRNk4Yv"
      }
    },
    {
      "cell_type": "markdown",
      "source": [
        "El método del gradiente descendente es un procedimiento iterativo para minimizar la función de costo, útil cuando n (o la dimensionalidad) es muy grande, o en problemas donde no hay solución cerrada.\n",
        "\n",
        "Se parte de la idea de calcular el gradiente de la función de costo en el punto actual (la dirección de mayor incremento), actualizar el vector de parámetros en la dirección opuesta al gradiente, con una cierta tasa de aprendizaje $\\alpha$:\n",
        "$$\\theta_{t+1}=\\theta_{t}-\\alpha \\nabla J (\\theta_t)$$\n",
        "donde $\\theta_{t}$ representa el conjunto de parámetros en la iteración $t$.\n",
        "\n",
        "En el caso de regresión lineal con función costo de la forma:\n",
        "$$J(w)=\\frac{1}{n}\\sum_{i = 1}^n \\left(w^T X_i+b-Y-1\\right)^2$$\n",
        "el vector de parámetros podría ser $\\theta=\\left(b, w_1, w_2,\\dots\\right)$.\n",
        "\n",
        "Aplicar gradiente descendiente consiste en:\n",
        "- Calculal el gradiente: Si se usa la versión matricial, el gradiente se expresa como:\n",
        "$$\\nabla J (w) = \\frac{2}{n} \\mathbf{X}^T\\left(\\mathbf{X}\\mathbf{w}-\\mathbf{y}\\right)$$\n",
        "- Actualilar los pesos en cada iteración:\n",
        "$$\\mathbf{w}_{t+1}=\\mathbf{w}_{t}-\\alpha\\cdot \\nabla J (\\mathbf{w}_t)$$\n",
        "\n",
        "Este procedimiento se repite hasta que se cumplan ciertos criterios de parada (número máximo de iteraciones o cambios muy pequeños en $J$).\n",
        "\n",
        "La tasa de aprendizaje $\\alpha$ controla cuánto se modifica $\\theta$ en cada iteración:\n",
        "- Si es demasiado grande, el método puede divergir u oscilar sin estabilizarse.\n",
        "- Si es muy pequeña, la convergencia es muy lenta, requiriéndose muchas iteraciones.\n",
        "\n",
        "Para el caso convexo, existe un valor óptimo en ciertos casos (cuando la matriz Hessiana es constante) que equilibra la velocidad de convergencia en todas las direccones:\n",
        "$$\\alpha^\\ast = \\frac{1}{\\lambda_{\\max}+\\lambda_{\\min}}$$\n",
        "siendo $\\lambda_i$ los autovalores.\n",
        "\n",
        "En el contexto particular del problema:\n",
        "$$\\mathbf{H}=\\nabla^2 J(\\mathbf{w})=\\frac{2}{n}\\mathbf{X}^T\\mathbf{X}$$\n",
        "es decir, la Hessiana no depende de $\\mathbf{w}$, por lo tanto es constante y se puede aplicar el criterio para obtener la tasa de aprendizaje."
      ],
      "metadata": {
        "id": "kZQkbL808yfr"
      }
    },
    {
      "cell_type": "code",
      "source": [
        "import numpy as np\n",
        "\n",
        "class gradient_descent:\n",
        "    def __init__(self, lr=0.01, iter=1000, tol=1e-6):\n",
        "        self.lr = lr\n",
        "        self.iter = iter\n",
        "        self.tol = tol\n",
        "        self.coef_ = None\n",
        "\n",
        "    def fit(self, X, y):\n",
        "        # Asegurar formato y agregar columna de 1s\n",
        "        y = y.reshape(-1, 1)\n",
        "        X_ = np.column_stack((np.ones_like(X), X))\n",
        "\n",
        "        # Inicializar w\n",
        "        coef = np.array([[0.],[0.]])\n",
        "\n",
        "        N = X.shape[0]\n",
        "\n",
        "        for _ in range(self.iter):\n",
        "            y_pred = X_ @ coef\n",
        "            grad = (-2 / N) * X_.T @ (y - y_pred)\n",
        "\n",
        "            # Criterio de corte: gradiente muy pequeño\n",
        "            if np.linalg.norm(grad) < self.tol:\n",
        "              break\n",
        "\n",
        "            coef -= self.lr * grad\n",
        "\n",
        "        # Convierte el array (2,1) en un vector 1D (2,)\n",
        "        self.coef_ = coef.flatten()\n",
        "\n",
        "    def predict(self, X):\n",
        "        return self.coef_[0] + self.coef_[1]*X\n",
        "\n"
      ],
      "metadata": {
        "id": "ZAVhCpcXh13l"
      },
      "execution_count": null,
      "outputs": []
    },
    {
      "cell_type": "code",
      "source": [
        "X_ = np.column_stack((np.ones_like(X), X))\n",
        "\n",
        "# Cálcular los autovalores máximo y mínimo\n",
        "eigenvalues = np.linalg.eigvalsh(X_.T @ X_)\n",
        "lambda_min = np.min(eigenvalues)\n",
        "lambda_max = np.max(eigenvalues)\n",
        "\n",
        "# Cálcular la tasa de aprendizaje\n",
        "lr_o = 2 / (lambda_max+lambda_min)\n",
        "print(f\"Autovalor mínimo: {lambda_min:.4f}, máximo: {lambda_max:.4f}, tasa: {lr_o:.6f}\")\n",
        "\n"
      ],
      "metadata": {
        "colab": {
          "base_uri": "https://localhost:8080/"
        },
        "id": "5ioyfi7XFjUv",
        "outputId": "e16715d7-8c57-46f0-8618-8e98b6512a0e"
      },
      "execution_count": null,
      "outputs": [
        {
          "output_type": "stream",
          "name": "stdout",
          "text": [
            "Autovalor mínimo: 28.9616, máximo: 680.2680, tasa: 0.002820\n"
          ]
        }
      ]
    },
    {
      "cell_type": "code",
      "source": [
        "# Entrenamos con gradiente descendiente\n",
        "modelo_gd = gradient_descent(lr=lr_o, iter=100_000, tol=1e-6)\n",
        "modelo_gd.fit(X, Y)\n",
        "\n",
        "print(f\"Parámetros con GD: Ordenada al origen= {modelo_gd.coef_[0]:.6f}, pendiente={modelo_gd.coef_[1]:.6f}\")"
      ],
      "metadata": {
        "colab": {
          "base_uri": "https://localhost:8080/"
        },
        "id": "U70zXKMAWYc0",
        "outputId": "4a2f7bb8-25cb-4b27-a1ed-ce5d05770798"
      },
      "execution_count": null,
      "outputs": [
        {
          "output_type": "stream",
          "name": "stdout",
          "text": [
            "Parámetros con GD: Ordenada al origen= 0.385610, pendiente=0.526656\n"
          ]
        }
      ]
    },
    {
      "cell_type": "code",
      "source": [
        "# Capacidad de 356 GB = 0.356 TB\n",
        "x_nuevo = np.array([0.356])\n",
        "\n",
        "# Predecir duración\n",
        "y_pred = modelo_gd.predict(x_nuevo)\n",
        "\n",
        "print(f\"Predicción de duración (en días) para 356GB: {y_pred[0]:.4f} días\")"
      ],
      "metadata": {
        "colab": {
          "base_uri": "https://localhost:8080/"
        },
        "id": "_x-GVEX3XayU",
        "outputId": "bcc2e8a9-01fc-469c-cb04-cc6f5566567e"
      },
      "execution_count": null,
      "outputs": [
        {
          "output_type": "stream",
          "name": "stdout",
          "text": [
            "Predicción de duración (en días) para 356GB: 0.5731 días\n"
          ]
        }
      ]
    }
  ]
}